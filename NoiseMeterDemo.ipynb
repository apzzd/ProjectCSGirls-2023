{
 "cells": [
  {
   "cell_type": "markdown",
   "id": "44cb7335",
   "metadata": {},
   "source": [
    "# Noise Meter Demo 💥🔈\n",
    "\n",
    "### This code should:\n",
    "- Turn button yellow & listen for when sounds exceed 0.3 RMS\n",
    "- When you want to hear the sounds that have been recorded, STOP THE CELL and run the next one.\n",
    "- The button will turn purple. When you press it, it will list out the names of the files that were recorded that day.\n",
    "- Then the button will turn blue. This will play all the sounds with a two second wait in between.\n",
    "- All sound files are in the navigator in .wav format - you can export them if needed.\n",
    "\n",
    "### Notes:\n",
    "\n",
    "The third cell will give LOTS of error messages. Ignore them.\n",
    "\n",
    "Make sure to run the last cell before re-running the cell that records you, or you'll get errors."
   ]
  },
  {
   "cell_type": "code",
   "execution_count": 1,
   "id": "a24e1d2d",
   "metadata": {},
   "outputs": [],
   "source": [
    "import pyaudio\n",
    "import time\n",
    "from math import log10\n",
    "import audioop\n",
    "\n",
    "from IPython.display import clear_output\n",
    "from aiy.voice.audio import AudioFormat, play_wav, record_file\n",
    "\n",
    "import glob\n",
    "from aiy.pins import BUTTON_GPIO_PIN\n",
    "from gpiozero import Button\n",
    "from aiy.leds import Leds, Color\n",
    "\n",
    "buttonLight = Leds()"
   ]
  },
  {
   "cell_type": "code",
   "execution_count": 2,
   "id": "f5cf3b4b",
   "metadata": {},
   "outputs": [
    {
     "name": "stderr",
     "output_type": "stream",
     "text": [
      "ALSA lib pcm.c:2565:(snd_pcm_open_noupdate) Unknown PCM cards.pcm.front\n",
      "ALSA lib pcm.c:2565:(snd_pcm_open_noupdate) Unknown PCM cards.pcm.rear\n",
      "ALSA lib pcm.c:2565:(snd_pcm_open_noupdate) Unknown PCM cards.pcm.center_lfe\n",
      "ALSA lib pcm.c:2565:(snd_pcm_open_noupdate) Unknown PCM cards.pcm.side\n",
      "ALSA lib pcm.c:2565:(snd_pcm_open_noupdate) Unknown PCM cards.pcm.surround21\n",
      "ALSA lib pcm.c:2565:(snd_pcm_open_noupdate) Unknown PCM cards.pcm.surround21\n",
      "ALSA lib pcm.c:2565:(snd_pcm_open_noupdate) Unknown PCM cards.pcm.surround40\n",
      "ALSA lib pcm.c:2565:(snd_pcm_open_noupdate) Unknown PCM cards.pcm.surround41\n",
      "ALSA lib pcm.c:2565:(snd_pcm_open_noupdate) Unknown PCM cards.pcm.surround50\n",
      "ALSA lib pcm.c:2565:(snd_pcm_open_noupdate) Unknown PCM cards.pcm.surround51\n",
      "ALSA lib pcm.c:2565:(snd_pcm_open_noupdate) Unknown PCM cards.pcm.surround71\n",
      "ALSA lib pcm.c:2565:(snd_pcm_open_noupdate) Unknown PCM cards.pcm.iec958\n",
      "ALSA lib pcm.c:2565:(snd_pcm_open_noupdate) Unknown PCM cards.pcm.iec958\n",
      "ALSA lib pcm.c:2565:(snd_pcm_open_noupdate) Unknown PCM cards.pcm.iec958\n",
      "ALSA lib pcm.c:2565:(snd_pcm_open_noupdate) Unknown PCM cards.pcm.hdmi\n",
      "ALSA lib pcm.c:2565:(snd_pcm_open_noupdate) Unknown PCM cards.pcm.hdmi\n",
      "ALSA lib pcm.c:2565:(snd_pcm_open_noupdate) Unknown PCM cards.pcm.modem\n",
      "ALSA lib pcm.c:2565:(snd_pcm_open_noupdate) Unknown PCM cards.pcm.modem\n",
      "ALSA lib pcm.c:2565:(snd_pcm_open_noupdate) Unknown PCM cards.pcm.phoneline\n",
      "ALSA lib pcm.c:2565:(snd_pcm_open_noupdate) Unknown PCM cards.pcm.phoneline\n",
      "Cannot connect to server socket err = No such file or directory\n",
      "Cannot connect to server request channel\n",
      "jack server is not running or cannot be started\n",
      "JackShmReadWritePtr::~JackShmReadWritePtr - Init not done for -1, skipping unlock\n",
      "JackShmReadWritePtr::~JackShmReadWritePtr - Init not done for -1, skipping unlock\n",
      "Cannot connect to server socket err = No such file or directory\n",
      "Cannot connect to server request channel\n",
      "jack server is not running or cannot be started\n",
      "JackShmReadWritePtr::~JackShmReadWritePtr - Init not done for -1, skipping unlock\n",
      "JackShmReadWritePtr::~JackShmReadWritePtr - Init not done for -1, skipping unlock\n",
      "ALSA lib pcm_oss.c:377:(_snd_pcm_oss_open) Unknown field port\n",
      "ALSA lib pcm_oss.c:377:(_snd_pcm_oss_open) Unknown field port\n",
      "ALSA lib pulse.c:243:(pulse_connect) PulseAudio: Unable to connect: Connection refused\n",
      "\n",
      "ALSA lib pulse.c:243:(pulse_connect) PulseAudio: Unable to connect: Connection refused\n",
      "\n",
      "ALSA lib pcm_a52.c:823:(_snd_pcm_a52_open) a52 is only for playback\n",
      "ALSA lib conf.c:5014:(snd_config_expand) Unknown parameters {AES0 0x6 AES1 0x82 AES2 0x0 AES3 0x2  CARD 0}\n",
      "ALSA lib pcm.c:2565:(snd_pcm_open_noupdate) Unknown PCM iec958:{AES0 0x6 AES1 0x82 AES2 0x0 AES3 0x2  CARD 0}\n",
      "ALSA lib pcm_usb_stream.c:486:(_snd_pcm_usb_stream_open) Invalid type for card\n",
      "ALSA lib pcm_usb_stream.c:486:(_snd_pcm_usb_stream_open) Invalid type for card\n",
      "Cannot connect to server socket err = No such file or directory\n",
      "Cannot connect to server request channel\n",
      "jack server is not running or cannot be started\n",
      "JackShmReadWritePtr::~JackShmReadWritePtr - Init not done for -1, skipping unlock\n",
      "JackShmReadWritePtr::~JackShmReadWritePtr - Init not done for -1, skipping unlock\n"
     ]
    }
   ],
   "source": [
    "p = pyaudio.PyAudio()\n",
    "\n",
    "WIDTH = 2\n",
    "RATE = int(p.get_default_input_device_info()['defaultSampleRate'])\n",
    "DEVICE = p.get_default_input_device_info()['index']\n",
    "rms = 1"
   ]
  },
  {
   "cell_type": "code",
   "execution_count": 3,
   "id": "f5d520bd",
   "metadata": {},
   "outputs": [
    {
     "name": "stdout",
     "output_type": "stream",
     "text": [
      "{'index': 7, 'structVersion': 2, 'name': 'default', 'hostApi': 0, 'maxInputChannels': 128, 'maxOutputChannels': 128, 'defaultLowInputLatency': 0.005804988662131519, 'defaultLowOutputLatency': 0.008707482993197279, 'defaultHighInputLatency': 0.034829931972789115, 'defaultHighOutputLatency': 0.034829931972789115, 'defaultSampleRate': 44100.0}\n"
     ]
    }
   ],
   "source": [
    "print(p.get_default_input_device_info())"
   ]
  },
  {
   "cell_type": "code",
   "execution_count": 4,
   "id": "0969b826",
   "metadata": {},
   "outputs": [],
   "source": [
    "def callback(in_data, frame_count, time_info, status):\n",
    "    global rms\n",
    "    rms = audioop.rms(in_data, WIDTH) / 32767\n",
    "    return in_data, pyaudio.paContinue\n",
    "\n",
    "stream = p.open(format=p.get_format_from_width(WIDTH),\n",
    "                input_device_index=DEVICE,\n",
    "                channels=1,\n",
    "                rate=RATE,\n",
    "                input=True,\n",
    "                output=False,\n",
    "                stream_callback=callback)"
   ]
  },
  {
   "cell_type": "code",
   "execution_count": 5,
   "id": "98729de7",
   "metadata": {},
   "outputs": [
    {
     "name": "stdout",
     "output_type": "stream",
     "text": [
      "Done\n"
     ]
    }
   ],
   "source": [
    "import time\n",
    "\n",
    "recdur = 5\n",
    "\n",
    "stream.start_stream()\n",
    "\n",
    "buttonLight.update(buttonLight.rgb_on((255, 100, 0)))\n",
    "\n",
    "try:\n",
    "    while stream.is_active(): \n",
    "        # print out the RMS and DB values\n",
    "        db = 20 * log10(rms)\n",
    "        print(f\"RMS: {rms:.4f} DB: {db:.1f}\") \n",
    "        clear_output(wait=True)\n",
    "        \n",
    "        if (rms > 0.3):\n",
    "            # stop stream\n",
    "            stream.stop_stream()\n",
    "            stream.close()\n",
    "            \n",
    "            # angrily record loud people \n",
    "            print(\"You're being too loud 😡 I will record you!\")\n",
    "            \n",
    "            date = time.strftime(\"%Y%m%d-%H%M%S\")\n",
    "            fn = \"loud-\" + date + \".wav\"\n",
    "            record_file(AudioFormat.CD, filename=fn, filetype='wav',\n",
    "                wait=lambda: time.sleep(recdur))\n",
    "            \n",
    "            # start stream\n",
    "            stream = p.open(format=p.get_format_from_width(WIDTH),\n",
    "                input_device_index=DEVICE,\n",
    "                channels=1,\n",
    "                rate=RATE,\n",
    "                input=True,\n",
    "                output=False,\n",
    "                stream_callback=callback)\n",
    "            stream.start_stream()\n",
    "            \n",
    "        \n",
    "        # refresh every 0.3 seconds \n",
    "        time.sleep(0.3)\n",
    "\n",
    "except KeyboardInterrupt:\n",
    "    print('Done')\n",
    "\n",
    "stream.stop_stream()\n",
    "stream.close()"
   ]
  },
  {
   "cell_type": "code",
   "execution_count": 6,
   "id": "4f681510",
   "metadata": {},
   "outputs": [
    {
     "ename": "KeyboardInterrupt",
     "evalue": "",
     "output_type": "error",
     "traceback": [
      "\u001b[0;31m---------------------------------------------------------------------------\u001b[0m",
      "\u001b[0;31mKeyboardInterrupt\u001b[0m                         Traceback (most recent call last)",
      "\u001b[0;32m/tmp/ipykernel_1247/1485790478.py\u001b[0m in \u001b[0;36m<module>\u001b[0;34m\u001b[0m\n\u001b[1;32m     25\u001b[0m         \u001b[0mbuttonLight\u001b[0m\u001b[0;34m.\u001b[0m\u001b[0mupdate\u001b[0m\u001b[0;34m(\u001b[0m\u001b[0mbuttonLight\u001b[0m\u001b[0;34m.\u001b[0m\u001b[0mrgb_on\u001b[0m\u001b[0;34m(\u001b[0m\u001b[0;34m(\u001b[0m\u001b[0;36m255\u001b[0m\u001b[0;34m,\u001b[0m \u001b[0;36m0\u001b[0m\u001b[0;34m,\u001b[0m \u001b[0;36m255\u001b[0m\u001b[0;34m)\u001b[0m\u001b[0;34m)\u001b[0m\u001b[0;34m)\u001b[0m\u001b[0;34m\u001b[0m\u001b[0;34m\u001b[0m\u001b[0m\n\u001b[1;32m     26\u001b[0m     \u001b[0;32mwhile\u001b[0m \u001b[0;32mTrue\u001b[0m\u001b[0;34m:\u001b[0m\u001b[0;34m\u001b[0m\u001b[0;34m\u001b[0m\u001b[0m\n\u001b[0;32m---> 27\u001b[0;31m         \u001b[0mbutton\u001b[0m\u001b[0;34m.\u001b[0m\u001b[0mwhen_pressed\u001b[0m\u001b[0;34m=\u001b[0m\u001b[0mplaySounds\u001b[0m\u001b[0;34m\u001b[0m\u001b[0;34m\u001b[0m\u001b[0m\n\u001b[0m",
      "\u001b[0;32m/usr/lib/python3/dist-packages/gpiozero/devices.py\u001b[0m in \u001b[0;36m__setattr__\u001b[0;34m(self, name, value)\u001b[0m\n\u001b[1;32m    130\u001b[0m                 \"'%s' object has no attribute '%s'\" % (\n\u001b[1;32m    131\u001b[0m                 self.__class__.__name__, name))\n\u001b[0;32m--> 132\u001b[0;31m         \u001b[0;32mreturn\u001b[0m \u001b[0msuper\u001b[0m\u001b[0;34m(\u001b[0m\u001b[0mGPIOBase\u001b[0m\u001b[0;34m,\u001b[0m \u001b[0mself\u001b[0m\u001b[0;34m)\u001b[0m\u001b[0;34m.\u001b[0m\u001b[0m__setattr__\u001b[0m\u001b[0;34m(\u001b[0m\u001b[0mname\u001b[0m\u001b[0;34m,\u001b[0m \u001b[0mvalue\u001b[0m\u001b[0;34m)\u001b[0m\u001b[0;34m\u001b[0m\u001b[0;34m\u001b[0m\u001b[0m\n\u001b[0m\u001b[1;32m    133\u001b[0m \u001b[0;34m\u001b[0m\u001b[0m\n\u001b[1;32m    134\u001b[0m     \u001b[0;32mdef\u001b[0m \u001b[0m__del__\u001b[0m\u001b[0;34m(\u001b[0m\u001b[0mself\u001b[0m\u001b[0;34m)\u001b[0m\u001b[0;34m:\u001b[0m\u001b[0;34m\u001b[0m\u001b[0;34m\u001b[0m\u001b[0m\n",
      "\u001b[0;31mKeyboardInterrupt\u001b[0m: "
     ]
    }
   ],
   "source": [
    "today = time.strftime(\"%Y%m%d\")\n",
    "\n",
    "global printedSnds \n",
    "printedSnds = False\n",
    "\n",
    "def playSounds():\n",
    "    print(\"Pressed\")\n",
    "    global printedSnds\n",
    "    files = glob.glob(\"loud-\" + today + \"*.wav\")\n",
    "    for file in files:\n",
    "        if (not printedSnds):\n",
    "            print(\"Printin' it\")\n",
    "            print(file)\n",
    "        else:\n",
    "            print(\"Playin' it\")\n",
    "            play_wav(file)\n",
    "            sleep(2)\n",
    "    printedSnds = True\n",
    "        \n",
    "        \n",
    "with Leds() as buttonLight, Button(BUTTON_GPIO_PIN) as button:\n",
    "    if (printedSnds):\n",
    "        buttonLight.update(buttonLight.rgb_on((0, 0, 255)))\n",
    "    else:\n",
    "        buttonLight.update(buttonLight.rgb_on((255, 0, 255)))\n",
    "    while True:\n",
    "        button.when_pressed=playSounds"
   ]
  },
  {
   "cell_type": "code",
   "execution_count": null,
   "id": "80590d2f",
   "metadata": {},
   "outputs": [],
   "source": [
    "stream.close()\n",
    "p.terminate()"
   ]
  },
  {
   "cell_type": "code",
   "execution_count": null,
   "id": "06ed7dc2",
   "metadata": {},
   "outputs": [],
   "source": []
  }
 ],
 "metadata": {
  "kernelspec": {
   "display_name": "Python 3 (ipykernel)",
   "language": "python",
   "name": "python3"
  },
  "language_info": {
   "codemirror_mode": {
    "name": "ipython",
    "version": 3
   },
   "file_extension": ".py",
   "mimetype": "text/x-python",
   "name": "python",
   "nbconvert_exporter": "python",
   "pygments_lexer": "ipython3",
   "version": "3.7.3"
  }
 },
 "nbformat": 4,
 "nbformat_minor": 5
}
